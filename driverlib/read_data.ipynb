{
 "cells": [
  {
   "cell_type": "code",
   "execution_count": 1,
   "metadata": {},
   "outputs": [],
   "source": [
    "from init_notebook import *"
   ]
  },
  {
   "cell_type": "code",
   "execution_count": 18,
   "metadata": {},
   "outputs": [
    {
     "name": "stderr",
     "output_type": "stream",
     "text": [
      "INFO:quanalys.acquisition_notebook.acquisition_analysis_manager:2023_01_31__22_50_58__monitor_flux_v2\n"
     ]
    },
    {
     "data": {
      "application/vnd.jupyter.widget-view+json": {
       "model_id": "06679e67d0064c7e956cbf678b57e724",
       "version_major": 2,
       "version_minor": 0
      },
      "text/plain": [
       "Canvas(toolbar=Toolbar(toolitems=[('Home', 'Reset original view', 'home', 'home'), ('Back', 'Back to previous …"
      ]
     },
     "metadata": {},
     "output_type": "display_data"
    }
   ],
   "source": [
    "aqm.analysis_cell('2023_01_31__22_50_58__monitor_flux_v2')\n",
    "\n",
    "%matplotlib widget\n",
    "fig = plt.figure(figsize=(8, 8))\n",
    "gs = fig.add_gridspec(3, 2)\n",
    "ax1 = fig.add_subplot(gs[0, 0])\n",
    "ax2 = fig.add_subplot(gs[0, 1])\n",
    "ax3 = fig.add_subplot(gs[1, :])\n",
    "ax4 = fig.add_subplot(gs[2, :], sharex=ax3)\n",
    "\n",
    "Z_CENTER = 0.738+1j*0.762\n",
    "START = 500\n",
    "STOP = 6_500\n",
    "left = aqm.data.left[START:STOP]\n",
    "z = left[:,0]+1j*left[:,1]-Z_CENTER\n",
    "times_s = aqm.data.times[START:STOP]*1e-9\n",
    "\n",
    "ax1.plot(times_s, left[:,0], 'o', label=\"Re\")\n",
    "ax1.set_ylabel(\"Ramsey signal at 2 us\")\n",
    "ax1.set_xlabel(\"Time (s)\")\n",
    "ax1.plot(times_s, left[:,1], 'o', label=\"Im\")\n",
    "ax1.legend()\n",
    "ax2.plot(np.real(z), np.imag(z), 'o')\n",
    "ax2.set_ylabel(\"Im(z)\")\n",
    "ax2.set_xlabel(\"Re(z)\")\n",
    "CONTRAST = 0.1\n",
    "thetas = np.linspace(0, 2*np.pi, 101)\n",
    "ax2.plot([0], [0], 'or')\n",
    "ax2.plot(CONTRAST*np.cos(thetas), CONTRAST*np.sin(thetas))\n",
    "ax2.set_aspect(\"equal\")\n",
    "\n",
    "ax3.plot(times_s, np.unwrap(np.angle(z))/(2*np.pi)/(aqm.d.t_probe*4)*1e6, \"o\")\n",
    "\n",
    "ax4.plot(list(aqm.data.times_yoko)  , list(aqm.data.voltages_yoko) )\n",
    "\n",
    "ax4.set_ylabel(\"yoko voltage (V)\")\n",
    "ax3.set_ylabel(\"drift (kHz)\")\n",
    "ax3.set_xlabel(\"time (s)\")\n",
    "ax4.set_xlabel(\"time (s)\")\n",
    "plt.tight_layout()"
   ]
  },
  {
   "cell_type": "code",
   "execution_count": 5,
   "metadata": {},
   "outputs": [
    {
     "data": {
      "text/plain": [
       "AnalysisData (rw): \n",
       " {\n",
       "    \"configs\" (r): {\n",
       "        \"configuration.py\": \"variable of type str\",\n",
       "        \"prepare_state.py\": \"variable of type str\"\n",
       "    },\n",
       "    \"left\" (r): \"shape: (75108, 2) (type: ndarray)\",\n",
       "    \"n_avg\" (r): \"5000 (type : int32)\",\n",
       "    \"t_probe\" (r): \"500 (type : int32)\",\n",
       "    \"times\" (r): \"shape: (75108,) (type: ndarray)\",\n",
       "    \"times_yoko\" (r): \"shape: (480,) (type: ndarray)\",\n",
       "    \"useful\" (r): \"1 (type : bool)\",\n",
       "    \"voltages_yoko\" (r): \"shape: (480,) (type: ndarray)\"\n",
       "}"
      ]
     },
     "execution_count": 5,
     "metadata": {},
     "output_type": "execute_result"
    }
   ],
   "source": [
    "aqm.d"
   ]
  },
  {
   "cell_type": "code",
   "execution_count": 1,
   "metadata": {},
   "outputs": [],
   "source": [
    "import numpy as np\n",
    "\n",
    "d = np.array(\n",
    "    [\n",
    "        (1.143, 0.180),\n",
    "        (2.02, 0.286),\n",
    "        (3.07, 0.408),\n",
    "        (4.093, 0.534),\n",
    "        (5.122, 0.692),\n",
    "        (6.106, 0.927),\n",
    "        (7.00, 1.206),\n",
    "        (8.01, 1.519),\n",
    "        (9.01, 1.836),\n",
    "        (10.09, 2.219),\n",
    "        (11.07, 2.566),\n",
    "        (12.09, 2.955),\n",
    "        (13.09, 3.3),\n",
    "        (14.00, 3.6),\n",
    "        (15.02, 4.0),\n",
    "        (16.09, 4.5),\n",
    "        (17.06, 5),\n",
    "        (18.01, 5.5),\n",
    "        (19.08, 6.1),\n",
    "        (20.03, 6.6),\n",
    "        (21.06, 7.4),\n",
    "        (22.00, 8.1),\n",
    "        (23.06, 8.9),\n",
    "        (24.06, 9.8),\n",
    "        (25.02, 10.6),\n",
    "        (26.08, 11.5),\n",
    "        (27.08, 12.4),\n",
    "        (28.05, 13.3),\n",
    "        (28.08, 14.3),\n",
    "    ]\n",
    ")"
   ]
  },
  {
   "cell_type": "code",
   "execution_count": 12,
   "metadata": {},
   "outputs": [
    {
     "data": {
      "text/plain": [
       "[Text(0, 0.5, 'Current (mA)'), Text(0.5, 0, 'DC bias (V)')]"
      ]
     },
     "execution_count": 12,
     "metadata": {},
     "output_type": "execute_result"
    },
    {
     "data": {
      "image/png": "[encoded data removed]",
      "text/plain": [
       "<Figure size 640x480 with 1 Axes>"
      ]
     },
     "metadata": {},
     "output_type": "display_data"
    }
   ],
   "source": [
    "fig, ax = plt.subplots(1, 1)\n",
    "ax.plot(d[:, 0], d[:, 1], \"--\", markerfacecolor=\"none\")\n",
    "ax.plot(d[:, 0], d[:, 1], \"o\", markerfacecolor=\"none\")\n",
    "ax.set(ylabel=\"Current (mA)\", xlabel=\"DC bias (V)\")"
   ]
  },
  {
   "cell_type": "code",
   "execution_count": null,
   "metadata": {},
   "outputs": [],
   "source": []
  }
 ],
 "metadata": {
  "kernelspec": {
   "display_name": "base",
   "language": "python",
   "name": "python3"
  },
  "language_info": {
   "codemirror_mode": {
    "name": "ipython",
    "version": 3
   },
   "file_extension": ".py",
   "mimetype": "text/x-python",
   "name": "python",
   "nbconvert_exporter": "python",
   "pygments_lexer": "ipython3",
   "version": "3.8.5"
  },
  "orig_nbformat": 4,
  "vscode": {
   "interpreter": {
    "hash": "ad2bdc8ecc057115af97d19610ffacc2b4e99fae6737bb82f5d7fb13d2f2c186"
   }
  }
 },
 "nbformat": 4,
 "nbformat_minor": 2
}
